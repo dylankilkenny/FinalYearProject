{
 "cells": [
  {
   "cell_type": "code",
   "execution_count": 7,
   "metadata": {},
   "outputs": [],
   "source": [
    "import json\n",
    "mau = [{\"Author\":\"xiaozhuUu\",\"Posts\":1.0,\"Comments\":0.0,\"Activity\":0.0},{\"Author\":\"DimmuBorgir667\",\"Posts\":1.0,\"Comments\":0.0,\"Activity\":0.0},{\"Author\":\"ynotplay\",\"Posts\":1.0,\"Comments\":0.0,\"Activity\":0.0},{\"Author\":\"Lapaluxx\",\"Posts\":0.0,\"Comments\":2.0,\"Activity\":0.0},{\"Author\":\"FalconPuuuuuunch\",\"Posts\":0.0,\"Comments\":1.0,\"Activity\":0.0},{\"Author\":\"eyezickk\",\"Posts\":0.0,\"Comments\":1.0,\"Activity\":0.0},{\"Author\":\"dekkrs\",\"Posts\":0.0,\"Comments\":1.0,\"Activity\":0.0},{\"Author\":\"heart_mind_body\",\"Posts\":0.0,\"Comments\":1.0,\"Activity\":0.0}]\n",
    "oldmau = [{'Activity': 0.0, 'Author': 'DimmuBorgir667', 'Comments': 0.0, 'Posts': 1.0}, {'Activity': 0.0, 'Author': 'xiaozhuUu', 'Comments': 0.0, 'Posts': 1.0}, {'Activity': 0.0, 'Author': 'ynotplay', 'Comments': 0.0, 'Posts': 1.0}, {'Activity': 0.0, 'Author': 'Lapaluxx', 'Comments': 2.0, 'Posts': 0.0}, {'Activity': 0.0, 'Author': 'heart_mind_body', 'Comments': 1.0, 'Posts': 0.0}, {'Activity': 0.0, 'Author': 'dekkrs', 'Comments': 1.0, 'Posts': 0.0}, {'Activity': 0.0, 'Author': 'eyezickk', 'Comments': 1.0, 'Posts': 0.0}, {'Activity': 0.0, 'Author': 'FalconPuuuuuunch', 'Comments': 1.0, 'Posts': 0.0}]\n",
    "m = json.dumps(mau)\n",
    "o = json.dumps(oldmau)\n",
    "mau = json.loads(m)\n",
    "oldmau = json.loads(o)"
   ]
  },
  {
   "cell_type": "code",
   "execution_count": 2,
   "metadata": {},
   "outputs": [],
   "source": [
    "mau = [{\"Author\":\"xiaozhuUu\",\"Posts\":1.0,\"Comments\":0.0,\"Activity\":0.0},{\"Author\":\"DimmuBorgir667\",\"Posts\":1.0,\"Comments\":0.0,\"Activity\":0.0},{\"Author\":\"ynotplay\",\"Posts\":1.0,\"Comments\":0.0,\"Activity\":0.0},{\"Author\":\"Lapaluxx\",\"Posts\":0.0,\"Comments\":2.0,\"Activity\":0.0},{\"Author\":\"FalconPuuuuuunch\",\"Posts\":0.0,\"Comments\":1.0,\"Activity\":0.0},{\"Author\":\"eyezickk\",\"Posts\":0.0,\"Comments\":1.0,\"Activity\":0.0},{\"Author\":\"dekkrs\",\"Posts\":0.0,\"Comments\":1.0,\"Activity\":0.0},{\"Author\":\"heart_mind_body\",\"Posts\":0.0,\"Comments\":1.0,\"Activity\":0.0}]"
   ]
  },
  {
   "cell_type": "code",
   "execution_count": 20,
   "metadata": {},
   "outputs": [
    {
     "name": "stdout",
     "output_type": "stream",
     "text": [
      "<class 'list'>\n"
     ]
    },
    {
     "ename": "AttributeError",
     "evalue": "'str' object has no attribute 'loads'",
     "output_type": "error",
     "traceback": [
      "\u001b[0;31m---------------------------------------------------------------------------\u001b[0m",
      "\u001b[0;31mAttributeError\u001b[0m                            Traceback (most recent call last)",
      "\u001b[0;32m<ipython-input-20-bb46e1f3e0af>\u001b[0m in \u001b[0;36m<module>\u001b[0;34m()\u001b[0m\n\u001b[1;32m     19\u001b[0m \u001b[0;34m\u001b[0m\u001b[0m\n\u001b[1;32m     20\u001b[0m \u001b[0mjson\u001b[0m \u001b[0;34m=\u001b[0m \u001b[0mjson\u001b[0m\u001b[0;34m.\u001b[0m\u001b[0mdumps\u001b[0m\u001b[0;34m(\u001b[0m\u001b[0mupdatedmau\u001b[0m\u001b[0;34m)\u001b[0m\u001b[0;34m\u001b[0m\u001b[0m\n\u001b[0;32m---> 21\u001b[0;31m \u001b[0mprint\u001b[0m\u001b[0;34m(\u001b[0m\u001b[0mjson\u001b[0m\u001b[0;34m.\u001b[0m\u001b[0mloads\u001b[0m\u001b[0;34m(\u001b[0m\u001b[0mjson\u001b[0m\u001b[0;34m)\u001b[0m\u001b[0;34m)\u001b[0m\u001b[0;34m\u001b[0m\u001b[0m\n\u001b[0m",
      "\u001b[0;31mAttributeError\u001b[0m: 'str' object has no attribute 'loads'"
     ]
    }
   ],
   "source": [
    "updatedmau = []\n",
    "# Compare new users against users already in database \n",
    "# and update old users with new info, popping from array\n",
    "# once processed\n",
    "print(type(mau))\n",
    "for user in range(len(oldmau)-1):\n",
    "    for newuser in range(len(mau)-1):\n",
    "        if oldmau[user]['Author'] == mau[newuser]['Author']:\n",
    "            updateduser = {}\n",
    "            updateduser[\"Author\"] = oldmau[user][\"Author\"]\n",
    "            updateduser[\"Comments\"] = oldmau[user][\"Comments\"] + mau[newuser][\"Comments\"]\n",
    "            updateduser[\"Posts\"] = oldmau[user][\"Posts\"] + mau[newuser][\"Posts\"]\n",
    "            updateduser[\"Activity\"] = oldmau[user][\"Activity\"] + mau[newuser][\"Activity\"]\n",
    "            updatedmau.append(updateduser)\n",
    "            mau.pop(newuser)\n",
    "\n",
    "for newuser in mau:\n",
    "    updatedmau.append(newuser)\n",
    "\n",
    "json = json.dumps(updatedmau)\n",
    "print(json.loads(json))"
   ]
  },
  {
   "cell_type": "code",
   "execution_count": 1,
   "metadata": {},
   "outputs": [
    {
     "name": "stdout",
     "output_type": "stream",
     "text": [
      "20474\n"
     ]
    }
   ],
   "source": [
    "import json\n",
    "\n",
    "# Submission ID's \n",
    "with open(\"submissions.json\", \"r\") as jsonFile:\n",
    "    submissions = json.load(jsonFile)\n",
    "count = 0\n",
    "# Find all submissions for this subreddit\n",
    "for item in submissions[\"data\"]:\n",
    "    count += len(item['id'])\n",
    "\n",
    "print(count)"
   ]
  },
  {
   "cell_type": "code",
   "execution_count": 5,
   "metadata": {},
   "outputs": [
    {
     "name": "stdout",
     "output_type": "stream",
     "text": [
      "{('bitcoin', 'cash'): 87, ('cash', 'bitcoin'): 18, ('block', 'size'): 18, ('usd', 'bitcoin'): 15, ('powered', 'rocketr'): 15, ('accepts', 'powered'): 15, ('rtippr', 'bitcoin'): 15, ('rocketr', 'rtippr'): 15, ('youve', 'received'): 15, ('bitcoin', 'rbtc'): 15, ('cash', 'accepts'): 15, ('bitcoin', 'bitcoin'): 14, ('roger', 'ver'): 13, ('electron', 'cash'): 12, ('bitcoin', 'core'): 12, ('dont', 'care'): 10, ('craig', 'wright'): 9, ('bitcoin', 'btc'): 7, ('000000602', '001'): 7, ('derivation', 'path'): 7, ('dont', 'understand'): 7, ('lightning', 'network'): 6, ('hard', 'forks'): 6, ('hardware', 'wallet'): 6, ('transaction', 'size'): 6, ('bch', 'btc'): 6, ('real', 'bitcoin'): 6, ('colored', 'coins'): 6, ('gon', 'na'): 6, ('hard', 'fork'): 6, ('btc', 'btc'): 6, ('00001', 'bch'): 5, ('katy', 'perry'): 5, ('received', '00001'): 5, ('qr', 'code'): 5, ('greg', 'maxwell'): 5, ('bip', '39'): 5, ('low', 'priority'): 5, ('satoshi', 'nakamoto'): 5}\n",
      "{'b i t c o i n': 'btc', 'c a s h': 'accepts', 'b l o c k': 'size', 'u s d': 'bitcoin', 'p o w e r e d': 'rocketr', 'a c c e p t s': 'powered', 'r t i p p r': 'bitcoin', 'r o c k e t r': 'rtippr', 'y o u v e': 'received', 'r o g e r': 'ver', 'e l e c t r o n': 'cash', 'd o n t': 'understand', 'c r a i g': 'wright', '0 0 0 0 0 0 6 0 2': '001', 'd e r i v a t i o n': 'path', 'l i g h t n i n g': 'network', 'h a r d': 'fork', 'h a r d w a r e': 'wallet', 't r a n s a c t i o n': 'size', 'b c h': 'btc', 'r e a l': 'bitcoin', 'c o l o r e d': 'coins', 'g o n': 'na', 'b t c': 'btc', '0 0 0 0 1': 'bch', 'k a t y': 'perry', 'r e c e i v e d': '00001', 'q r': 'code', 'g r e g': 'maxwell', 'b i p': '39', 'l o w': 'priority', 's a t o s h i': 'nakamoto'}\n"
     ]
    }
   ],
   "source": [
    "dicct = {('bitcoin', 'cash'): 87, ('cash', 'bitcoin'): 18, ('block', 'size'): 18, ('usd', 'bitcoin'): 15, ('powered', 'rocketr'): 15, ('accepts', 'powered'): 15, ('rtippr', 'bitcoin'): 15, ('rocketr', 'rtippr'): 15, ('youve', 'received'): 15, ('bitcoin', 'rbtc'): 15, ('cash', 'accepts'): 15, ('bitcoin', 'bitcoin'): 14, ('roger', 'ver'): 13, ('electron', 'cash'): 12, ('bitcoin', 'core'): 12, ('dont', 'care'): 10, ('craig', 'wright'): 9, ('bitcoin', 'btc'): 7, ('000000602', '001'): 7, ('derivation', 'path'): 7, ('dont', 'understand'): 7, ('lightning', 'network'): 6, ('hard', 'forks'): 6, ('hardware', 'wallet'): 6, ('transaction', 'size'): 6, ('bch', 'btc'): 6, ('real', 'bitcoin'): 6, ('colored', 'coins'): 6, ('gon', 'na'): 6, ('hard', 'fork'): 6, ('btc', 'btc'): 6, ('00001', 'bch'): 5, ('katy', 'perry'): 5, ('received', '00001'): 5, ('qr', 'code'): 5, ('greg', 'maxwell'): 5, ('bip', '39'): 5, ('low', 'priority'): 5, ('satoshi', 'nakamoto'): 5}\n",
    "print(dicct)\n",
    "updated = {}\n",
    "for key, value in dicct.iteritems():\n",
    "    k = ' '.join(key)\n",
    "    updated[k] = value\n",
    "print(updated)\n",
    "    "
   ]
  },
  {
   "cell_type": "code",
   "execution_count": null,
   "metadata": {},
   "outputs": [],
   "source": []
  }
 ],
 "metadata": {
  "kernelspec": {
   "display_name": "Python 3",
   "language": "python",
   "name": "python3"
  },
  "language_info": {
   "codemirror_mode": {
    "name": "ipython",
    "version": 3
   },
   "file_extension": ".py",
   "mimetype": "text/x-python",
   "name": "python",
   "nbconvert_exporter": "python",
   "pygments_lexer": "ipython3",
   "version": "3.6.5"
  }
 },
 "nbformat": 4,
 "nbformat_minor": 2
}
