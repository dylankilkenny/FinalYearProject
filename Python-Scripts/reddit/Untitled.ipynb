{
 "cells": [
  {
   "cell_type": "code",
   "execution_count": 7,
   "metadata": {},
   "outputs": [],
   "source": [
    "import json\n",
    "mau = [{\"Author\":\"xiaozhuUu\",\"Posts\":1.0,\"Comments\":0.0,\"Activity\":0.0},{\"Author\":\"DimmuBorgir667\",\"Posts\":1.0,\"Comments\":0.0,\"Activity\":0.0},{\"Author\":\"ynotplay\",\"Posts\":1.0,\"Comments\":0.0,\"Activity\":0.0},{\"Author\":\"Lapaluxx\",\"Posts\":0.0,\"Comments\":2.0,\"Activity\":0.0},{\"Author\":\"FalconPuuuuuunch\",\"Posts\":0.0,\"Comments\":1.0,\"Activity\":0.0},{\"Author\":\"eyezickk\",\"Posts\":0.0,\"Comments\":1.0,\"Activity\":0.0},{\"Author\":\"dekkrs\",\"Posts\":0.0,\"Comments\":1.0,\"Activity\":0.0},{\"Author\":\"heart_mind_body\",\"Posts\":0.0,\"Comments\":1.0,\"Activity\":0.0}]\n",
    "oldmau = [{'Activity': 0.0, 'Author': 'DimmuBorgir667', 'Comments': 0.0, 'Posts': 1.0}, {'Activity': 0.0, 'Author': 'xiaozhuUu', 'Comments': 0.0, 'Posts': 1.0}, {'Activity': 0.0, 'Author': 'ynotplay', 'Comments': 0.0, 'Posts': 1.0}, {'Activity': 0.0, 'Author': 'Lapaluxx', 'Comments': 2.0, 'Posts': 0.0}, {'Activity': 0.0, 'Author': 'heart_mind_body', 'Comments': 1.0, 'Posts': 0.0}, {'Activity': 0.0, 'Author': 'dekkrs', 'Comments': 1.0, 'Posts': 0.0}, {'Activity': 0.0, 'Author': 'eyezickk', 'Comments': 1.0, 'Posts': 0.0}, {'Activity': 0.0, 'Author': 'FalconPuuuuuunch', 'Comments': 1.0, 'Posts': 0.0}]\n",
    "m = json.dumps(mau)\n",
    "o = json.dumps(oldmau)\n",
    "mau = json.loads(m)\n",
    "oldmau = json.loads(o)"
   ]
  },
  {
   "cell_type": "code",
   "execution_count": 2,
   "metadata": {},
   "outputs": [],
   "source": [
    "mau = [{\"Author\":\"xiaozhuUu\",\"Posts\":1.0,\"Comments\":0.0,\"Activity\":0.0},{\"Author\":\"DimmuBorgir667\",\"Posts\":1.0,\"Comments\":0.0,\"Activity\":0.0},{\"Author\":\"ynotplay\",\"Posts\":1.0,\"Comments\":0.0,\"Activity\":0.0},{\"Author\":\"Lapaluxx\",\"Posts\":0.0,\"Comments\":2.0,\"Activity\":0.0},{\"Author\":\"FalconPuuuuuunch\",\"Posts\":0.0,\"Comments\":1.0,\"Activity\":0.0},{\"Author\":\"eyezickk\",\"Posts\":0.0,\"Comments\":1.0,\"Activity\":0.0},{\"Author\":\"dekkrs\",\"Posts\":0.0,\"Comments\":1.0,\"Activity\":0.0},{\"Author\":\"heart_mind_body\",\"Posts\":0.0,\"Comments\":1.0,\"Activity\":0.0}]"
   ]
  },
  {
   "cell_type": "code",
   "execution_count": 20,
   "metadata": {},
   "outputs": [
    {
     "name": "stdout",
     "output_type": "stream",
     "text": [
      "<class 'list'>\n"
     ]
    },
    {
     "ename": "AttributeError",
     "evalue": "'str' object has no attribute 'loads'",
     "output_type": "error",
     "traceback": [
      "\u001b[0;31m---------------------------------------------------------------------------\u001b[0m",
      "\u001b[0;31mAttributeError\u001b[0m                            Traceback (most recent call last)",
      "\u001b[0;32m<ipython-input-20-bb46e1f3e0af>\u001b[0m in \u001b[0;36m<module>\u001b[0;34m()\u001b[0m\n\u001b[1;32m     19\u001b[0m \u001b[0;34m\u001b[0m\u001b[0m\n\u001b[1;32m     20\u001b[0m \u001b[0mjson\u001b[0m \u001b[0;34m=\u001b[0m \u001b[0mjson\u001b[0m\u001b[0;34m.\u001b[0m\u001b[0mdumps\u001b[0m\u001b[0;34m(\u001b[0m\u001b[0mupdatedmau\u001b[0m\u001b[0;34m)\u001b[0m\u001b[0;34m\u001b[0m\u001b[0m\n\u001b[0;32m---> 21\u001b[0;31m \u001b[0mprint\u001b[0m\u001b[0;34m(\u001b[0m\u001b[0mjson\u001b[0m\u001b[0;34m.\u001b[0m\u001b[0mloads\u001b[0m\u001b[0;34m(\u001b[0m\u001b[0mjson\u001b[0m\u001b[0;34m)\u001b[0m\u001b[0;34m)\u001b[0m\u001b[0;34m\u001b[0m\u001b[0m\n\u001b[0m",
      "\u001b[0;31mAttributeError\u001b[0m: 'str' object has no attribute 'loads'"
     ]
    }
   ],
   "source": [
    "updatedmau = []\n",
    "# Compare new users against users already in database \n",
    "# and update old users with new info, popping from array\n",
    "# once processed\n",
    "print(type(mau))\n",
    "for user in range(len(oldmau)-1):\n",
    "    for newuser in range(len(mau)-1):\n",
    "        if oldmau[user]['Author'] == mau[newuser]['Author']:\n",
    "            updateduser = {}\n",
    "            updateduser[\"Author\"] = oldmau[user][\"Author\"]\n",
    "            updateduser[\"Comments\"] = oldmau[user][\"Comments\"] + mau[newuser][\"Comments\"]\n",
    "            updateduser[\"Posts\"] = oldmau[user][\"Posts\"] + mau[newuser][\"Posts\"]\n",
    "            updateduser[\"Activity\"] = oldmau[user][\"Activity\"] + mau[newuser][\"Activity\"]\n",
    "            updatedmau.append(updateduser)\n",
    "            mau.pop(newuser)\n",
    "\n",
    "for newuser in mau:\n",
    "    updatedmau.append(newuser)\n",
    "\n",
    "json = json.dumps(updatedmau)\n",
    "print(json.loads(json))"
   ]
  },
  {
   "cell_type": "code",
   "execution_count": null,
   "metadata": {},
   "outputs": [],
   "source": []
  }
 ],
 "metadata": {
  "kernelspec": {
   "display_name": "Python 3",
   "language": "python",
   "name": "python3"
  },
  "language_info": {
   "codemirror_mode": {
    "name": "ipython",
    "version": 3
   },
   "file_extension": ".py",
   "mimetype": "text/x-python",
   "name": "python",
   "nbconvert_exporter": "python",
   "pygments_lexer": "ipython3",
   "version": "3.6.4"
  }
 },
 "nbformat": 4,
 "nbformat_minor": 2
}
