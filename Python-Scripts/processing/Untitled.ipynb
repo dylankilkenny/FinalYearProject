{
 "cells": [
  {
   "cell_type": "code",
   "execution_count": 1,
   "metadata": {},
   "outputs": [],
   "source": [
    "import pandas as pd\n",
    "import re\n",
    "\n",
    "#Load Data\n",
    "source = pd.read_csv('../data/small_data.csv', parse_dates=['Date'])\n",
    "#Change data format\n",
    "source[\"Date\"] = pd.to_datetime(source[\"Date\"],unit='s')\n",
    "#Create df object\n",
    "data = {\"Author\": source[\"Author\"], \"Text\": source[\"Body\"], \"Date\": source[\"Date\"], \"Score\": source[\"Score\"] }\n",
    "#Create df\n",
    "data = pd.DataFrame(data=data)\n",
    "#Transform datetime to date\n",
    "data[\"Date\"] = data[\"Date\"].dt.date\n",
    "#Remove URLs  \n",
    "data[\"Text\"] =  data['Text'].str.replace(r'http\\S+', '', case=False)"
   ]
  },
  {
   "cell_type": "code",
   "execution_count": 3,
   "metadata": {},
   "outputs": [
    {
     "name": "stdout",
     "output_type": "stream",
     "text": [
      "Date\n",
      "2018-01-26    916\n",
      "2018-01-27     63\n",
      "2018-01-28     15\n",
      "2018-01-29      4\n",
      "2018-02-02      1\n",
      "2018-02-03      1\n",
      "dtype: int64\n"
     ]
    }
   ],
   "source": [
    "CommentsByDay = data.groupby(['Date']).size()\n",
    "print(CommentsByDay)"
   ]
  },
  {
   "cell_type": "code",
   "execution_count": 11,
   "metadata": {},
   "outputs": [
    {
     "name": "stdout",
     "output_type": "stream",
     "text": [
      "mungojelly              37\n",
      "rdar1999                30\n",
      "jessquit                19\n",
      "LovelyDay               18\n",
      "bchworldorder           16\n",
      "blockthestream          15\n",
      "tippr                   15\n",
      "Kain_niaK               13\n",
      "Everluck8               13\n",
      "EnayVovin               12\n",
      "Adrian-X                12\n",
      "Richy_T                 12\n",
      "TiagoTiagoT             11\n",
      "AcerbLogic              10\n",
      "Ant-n                   10\n",
      "flamingboard            10\n",
      "CasPiancey               9\n",
      "mikheil107               9\n",
      "E7ernal                  9\n",
      "blechman                 8\n",
      "haydenw360               8\n",
      "alexander7k              8\n",
      "unitedstatian            8\n",
      "Libertymark              7\n",
      "alfonumeric              7\n",
      "dEBRUYNE_1               7\n",
      "iago_bot                 7\n",
      "iopq                     7\n",
      "undernew                 7\n",
      "shadowofashadow          7\n",
      "                        ..\n",
      "jonas_h                  1\n",
      "hiver                    1\n",
      "ArcaneDichotomy          1\n",
      "bolte                    1\n",
      "Darnit_Bot               1\n",
      "aggressive_simon         1\n",
      "BMahon9                  1\n",
      "cvlf4700                 1\n",
      "bch_ftw                  1\n",
      "PilgramDouglas           1\n",
      "GoodBot_BadBot           1\n",
      "turb0kat0                1\n",
      "BatterT                  1\n",
      "2_Genders_I_am_1         1\n",
      "Memir0                   1\n",
      "mcgravier                1\n",
      "DeftNerd                 1\n",
      "iamnosent                1\n",
      "eyebeefa                 1\n",
      "dadoj                    1\n",
      "Dekker3D                 1\n",
      "JohnGypsy                1\n",
      "m4ktub1st                1\n",
      "horseeating              1\n",
      "rawb0t                   1\n",
      "T4GG4RT                  1\n",
      "HayektheHustler          1\n",
      "gold_rehypothecation     1\n",
      "Codebender               1\n",
      "Bitcoin2009              1\n",
      "Name: Author, Length: 366, dtype: int64\n"
     ]
    }
   ],
   "source": [
    "MostActiveUsers = data['Author'].value_counts()\n",
    "print(MostActiveUsers)"
   ]
  },
  {
   "cell_type": "code",
   "execution_count": 5,
   "metadata": {},
   "outputs": [
    {
     "name": "stdout",
     "output_type": "stream",
     "text": [
      "Author\n",
      "-Seirei-              12\n",
      "-uncle-jimbo-          1\n",
      "0xHUEHUE               3\n",
      "1Hyena                 2\n",
      "2_Genders_I_am_1       5\n",
      "324JL                 12\n",
      "4FtQGJV                4\n",
      "6_33_6                 1\n",
      "79b79aa8               2\n",
      "A_newman123            2\n",
      "AceDoja                6\n",
      "AcerbLogic            27\n",
      "AcidSuicide            2\n",
      "Adrian-X              15\n",
      "AlastarYaboy           5\n",
      "Alexmetis              1\n",
      "Ant-n                 27\n",
      "ArcaneDichotomy        1\n",
      "AvK_33                 7\n",
      "BCN10                  4\n",
      "BMahon9                1\n",
      "BTC_StKN              11\n",
      "BackToBitcoin         10\n",
      "Bagatell_              5\n",
      "BatterT                2\n",
      "Benjamin_atom         14\n",
      "BigBlockFTW            4\n",
      "Bitcoin2009           22\n",
      "BitcoinArtist          4\n",
      "BitcoinBeanie         -1\n",
      "                      ..\n",
      "the_zukk               3\n",
      "thususaste             2\n",
      "tippr                 27\n",
      "tipprstats             1\n",
      "todu                  15\n",
      "tophernator            7\n",
      "tripledogdareya       10\n",
      "tssenek                1\n",
      "turb0kat0              3\n",
      "uMCCCS                 8\n",
      "uglymelt               4\n",
      "uiucengineer           1\n",
      "undernew              53\n",
      "unitedstatian         31\n",
      "vdogg89                2\n",
      "waspoza               -3\n",
      "we-are-all-satoshi    11\n",
      "where-is-satoshi       3\n",
      "whistlepig33           2\n",
      "whiter01               4\n",
      "wol                   20\n",
      "xModulus              21\n",
      "xuanson1710            1\n",
      "youarelovedSOmuch      4\n",
      "zaphod42              -8\n",
      "zehri                  1\n",
      "zquestz                7\n",
      "zripp                  1\n",
      "zveda                  3\n",
      "zynalk                 7\n",
      "Name: Score, Length: 366, dtype: int64\n"
     ]
    }
   ],
   "source": [
    "UserOveralScore =  data.groupby('Author')['Score'].sum()\n",
    "print(UserOveralScore)\n"
   ]
  },
  {
   "cell_type": "code",
   "execution_count": null,
   "metadata": {},
   "outputs": [],
   "source": []
  }
 ],
 "metadata": {
  "kernelspec": {
   "display_name": "Python 3",
   "language": "python",
   "name": "python3"
  },
  "language_info": {
   "codemirror_mode": {
    "name": "ipython",
    "version": 3
   },
   "file_extension": ".py",
   "mimetype": "text/x-python",
   "name": "python",
   "nbconvert_exporter": "python",
   "pygments_lexer": "ipython3",
   "version": "3.6.4"
  }
 },
 "nbformat": 4,
 "nbformat_minor": 2
}
